{
 "cells": [
  {
   "cell_type": "code",
   "execution_count": 1,
   "metadata": {
    "_kg_hide-input": true
   },
   "outputs": [
    {
     "name": "stdout",
     "output_type": "stream",
     "text": [
      "-rw-r--r--  1 elizabethnemeti  staff     15086 Jun 20 13:10 kaggle_image_segmentation-0.2.0.dev0-py3-none-any.whl\n",
      "-rw-r--r--  1 elizabethnemeti  staff   1127384 Jun 20 13:10 lightning_flash-0.8.0.dev0-py3-none-any.whl\n",
      "-rw-r--r--  1 elizabethnemeti  staff     26320 Jun 20 13:10 lightning_utilities-0.11.2-py3-none-any.whl\n",
      "-rw-r--r--  1 elizabethnemeti  staff    812208 Jun 20 13:10 pytorch_lightning-2.3.0-py3-none-any.whl\n",
      "\u001b[31mERROR: Could not find a version that satisfies the requirement torchvision (from kaggle-image-segmentation) (from versions: none)\u001b[0m\u001b[31m\n",
      "\u001b[0m\u001b[31mERROR: No matching distribution found for torchvision\u001b[0m\u001b[31m\n",
      "\u001b[0m"
     ]
    }
   ],
   "source": [
    "!pip wheel -q \"https://github.com/Borda/kaggle_image-segm/archive/refs/heads/main.zip\" --wheel-dir frozen_packages\n",
    "!pip wheel -q \"https://github.com/PyTorchLightning/lightning-flash/archive/refs/heads/segm/multi-label.zip\" --wheel-dir frozen_packages\n",
    "!rm frozen_packages/torch*\n",
    "!ls -l frozen_packages | grep -e kaggle -e lightning\n",
    "!pip install -q 'kaggle-image-segmentation' --find-links frozen_packages --no-index"
   ]
  },
  {
   "cell_type": "code",
   "execution_count": 2,
   "metadata": {
    "_cell_guid": "b1076dfc-b9ad-4769-8c92-a6c4dae69d19",
    "_uuid": "8f2839f25d086af736a60e9eeb907d3b93b6e0e5"
   },
   "outputs": [
    {
     "ename": "FileNotFoundError",
     "evalue": "[Errno 2] No such file or directory: '/kaggle/input/uw-madison-gi-tract-image-segmentation/train.csv'",
     "output_type": "error",
     "traceback": [
      "\u001b[0;31m---------------------------------------------------------------------------\u001b[0m",
      "\u001b[0;31mFileNotFoundError\u001b[0m                         Traceback (most recent call last)",
      "Cell \u001b[0;32mIn[2], line 7\u001b[0m\n\u001b[1;32m      5\u001b[0m DATASET_FOLDER \u001b[38;5;241m=\u001b[39m \u001b[38;5;124m\"\u001b[39m\u001b[38;5;124m/kaggle/input/uw-madison-gi-tract-image-segmentation\u001b[39m\u001b[38;5;124m\"\u001b[39m\n\u001b[1;32m      6\u001b[0m path_csv \u001b[38;5;241m=\u001b[39m os\u001b[38;5;241m.\u001b[39mpath\u001b[38;5;241m.\u001b[39mjoin(DATASET_FOLDER, \u001b[38;5;124m\"\u001b[39m\u001b[38;5;124mtrain.csv\u001b[39m\u001b[38;5;124m\"\u001b[39m)\n\u001b[0;32m----> 7\u001b[0m df_train \u001b[38;5;241m=\u001b[39m \u001b[43mpd\u001b[49m\u001b[38;5;241;43m.\u001b[39;49m\u001b[43mread_csv\u001b[49m\u001b[43m(\u001b[49m\u001b[43mpath_csv\u001b[49m\u001b[43m)\u001b[49m\n\u001b[1;32m      8\u001b[0m display(df_train\u001b[38;5;241m.\u001b[39mhead())\n",
      "File \u001b[0;32m/Library/Frameworks/Python.framework/Versions/3.12/lib/python3.12/site-packages/pandas/io/parsers/readers.py:1024\u001b[0m, in \u001b[0;36mread_csv\u001b[0;34m(filepath_or_buffer, sep, delimiter, header, names, index_col, usecols, dtype, engine, converters, true_values, false_values, skipinitialspace, skiprows, skipfooter, nrows, na_values, keep_default_na, na_filter, verbose, skip_blank_lines, parse_dates, infer_datetime_format, keep_date_col, date_parser, date_format, dayfirst, cache_dates, iterator, chunksize, compression, thousands, decimal, lineterminator, quotechar, quoting, doublequote, escapechar, comment, encoding, encoding_errors, dialect, on_bad_lines, delim_whitespace, low_memory, memory_map, float_precision, storage_options, dtype_backend)\u001b[0m\n\u001b[1;32m   1011\u001b[0m kwds_defaults \u001b[38;5;241m=\u001b[39m _refine_defaults_read(\n\u001b[1;32m   1012\u001b[0m     dialect,\n\u001b[1;32m   1013\u001b[0m     delimiter,\n\u001b[0;32m   (...)\u001b[0m\n\u001b[1;32m   1020\u001b[0m     dtype_backend\u001b[38;5;241m=\u001b[39mdtype_backend,\n\u001b[1;32m   1021\u001b[0m )\n\u001b[1;32m   1022\u001b[0m kwds\u001b[38;5;241m.\u001b[39mupdate(kwds_defaults)\n\u001b[0;32m-> 1024\u001b[0m \u001b[38;5;28;01mreturn\u001b[39;00m \u001b[43m_read\u001b[49m\u001b[43m(\u001b[49m\u001b[43mfilepath_or_buffer\u001b[49m\u001b[43m,\u001b[49m\u001b[43m \u001b[49m\u001b[43mkwds\u001b[49m\u001b[43m)\u001b[49m\n",
      "File \u001b[0;32m/Library/Frameworks/Python.framework/Versions/3.12/lib/python3.12/site-packages/pandas/io/parsers/readers.py:618\u001b[0m, in \u001b[0;36m_read\u001b[0;34m(filepath_or_buffer, kwds)\u001b[0m\n\u001b[1;32m    615\u001b[0m _validate_names(kwds\u001b[38;5;241m.\u001b[39mget(\u001b[38;5;124m\"\u001b[39m\u001b[38;5;124mnames\u001b[39m\u001b[38;5;124m\"\u001b[39m, \u001b[38;5;28;01mNone\u001b[39;00m))\n\u001b[1;32m    617\u001b[0m \u001b[38;5;66;03m# Create the parser.\u001b[39;00m\n\u001b[0;32m--> 618\u001b[0m parser \u001b[38;5;241m=\u001b[39m \u001b[43mTextFileReader\u001b[49m\u001b[43m(\u001b[49m\u001b[43mfilepath_or_buffer\u001b[49m\u001b[43m,\u001b[49m\u001b[43m \u001b[49m\u001b[38;5;241;43m*\u001b[39;49m\u001b[38;5;241;43m*\u001b[39;49m\u001b[43mkwds\u001b[49m\u001b[43m)\u001b[49m\n\u001b[1;32m    620\u001b[0m \u001b[38;5;28;01mif\u001b[39;00m chunksize \u001b[38;5;129;01mor\u001b[39;00m iterator:\n\u001b[1;32m    621\u001b[0m     \u001b[38;5;28;01mreturn\u001b[39;00m parser\n",
      "File \u001b[0;32m/Library/Frameworks/Python.framework/Versions/3.12/lib/python3.12/site-packages/pandas/io/parsers/readers.py:1618\u001b[0m, in \u001b[0;36mTextFileReader.__init__\u001b[0;34m(self, f, engine, **kwds)\u001b[0m\n\u001b[1;32m   1615\u001b[0m     \u001b[38;5;28mself\u001b[39m\u001b[38;5;241m.\u001b[39moptions[\u001b[38;5;124m\"\u001b[39m\u001b[38;5;124mhas_index_names\u001b[39m\u001b[38;5;124m\"\u001b[39m] \u001b[38;5;241m=\u001b[39m kwds[\u001b[38;5;124m\"\u001b[39m\u001b[38;5;124mhas_index_names\u001b[39m\u001b[38;5;124m\"\u001b[39m]\n\u001b[1;32m   1617\u001b[0m \u001b[38;5;28mself\u001b[39m\u001b[38;5;241m.\u001b[39mhandles: IOHandles \u001b[38;5;241m|\u001b[39m \u001b[38;5;28;01mNone\u001b[39;00m \u001b[38;5;241m=\u001b[39m \u001b[38;5;28;01mNone\u001b[39;00m\n\u001b[0;32m-> 1618\u001b[0m \u001b[38;5;28mself\u001b[39m\u001b[38;5;241m.\u001b[39m_engine \u001b[38;5;241m=\u001b[39m \u001b[38;5;28;43mself\u001b[39;49m\u001b[38;5;241;43m.\u001b[39;49m\u001b[43m_make_engine\u001b[49m\u001b[43m(\u001b[49m\u001b[43mf\u001b[49m\u001b[43m,\u001b[49m\u001b[43m \u001b[49m\u001b[38;5;28;43mself\u001b[39;49m\u001b[38;5;241;43m.\u001b[39;49m\u001b[43mengine\u001b[49m\u001b[43m)\u001b[49m\n",
      "File \u001b[0;32m/Library/Frameworks/Python.framework/Versions/3.12/lib/python3.12/site-packages/pandas/io/parsers/readers.py:1878\u001b[0m, in \u001b[0;36mTextFileReader._make_engine\u001b[0;34m(self, f, engine)\u001b[0m\n\u001b[1;32m   1876\u001b[0m     \u001b[38;5;28;01mif\u001b[39;00m \u001b[38;5;124m\"\u001b[39m\u001b[38;5;124mb\u001b[39m\u001b[38;5;124m\"\u001b[39m \u001b[38;5;129;01mnot\u001b[39;00m \u001b[38;5;129;01min\u001b[39;00m mode:\n\u001b[1;32m   1877\u001b[0m         mode \u001b[38;5;241m+\u001b[39m\u001b[38;5;241m=\u001b[39m \u001b[38;5;124m\"\u001b[39m\u001b[38;5;124mb\u001b[39m\u001b[38;5;124m\"\u001b[39m\n\u001b[0;32m-> 1878\u001b[0m \u001b[38;5;28mself\u001b[39m\u001b[38;5;241m.\u001b[39mhandles \u001b[38;5;241m=\u001b[39m \u001b[43mget_handle\u001b[49m\u001b[43m(\u001b[49m\n\u001b[1;32m   1879\u001b[0m \u001b[43m    \u001b[49m\u001b[43mf\u001b[49m\u001b[43m,\u001b[49m\n\u001b[1;32m   1880\u001b[0m \u001b[43m    \u001b[49m\u001b[43mmode\u001b[49m\u001b[43m,\u001b[49m\n\u001b[1;32m   1881\u001b[0m \u001b[43m    \u001b[49m\u001b[43mencoding\u001b[49m\u001b[38;5;241;43m=\u001b[39;49m\u001b[38;5;28;43mself\u001b[39;49m\u001b[38;5;241;43m.\u001b[39;49m\u001b[43moptions\u001b[49m\u001b[38;5;241;43m.\u001b[39;49m\u001b[43mget\u001b[49m\u001b[43m(\u001b[49m\u001b[38;5;124;43m\"\u001b[39;49m\u001b[38;5;124;43mencoding\u001b[39;49m\u001b[38;5;124;43m\"\u001b[39;49m\u001b[43m,\u001b[49m\u001b[43m \u001b[49m\u001b[38;5;28;43;01mNone\u001b[39;49;00m\u001b[43m)\u001b[49m\u001b[43m,\u001b[49m\n\u001b[1;32m   1882\u001b[0m \u001b[43m    \u001b[49m\u001b[43mcompression\u001b[49m\u001b[38;5;241;43m=\u001b[39;49m\u001b[38;5;28;43mself\u001b[39;49m\u001b[38;5;241;43m.\u001b[39;49m\u001b[43moptions\u001b[49m\u001b[38;5;241;43m.\u001b[39;49m\u001b[43mget\u001b[49m\u001b[43m(\u001b[49m\u001b[38;5;124;43m\"\u001b[39;49m\u001b[38;5;124;43mcompression\u001b[39;49m\u001b[38;5;124;43m\"\u001b[39;49m\u001b[43m,\u001b[49m\u001b[43m \u001b[49m\u001b[38;5;28;43;01mNone\u001b[39;49;00m\u001b[43m)\u001b[49m\u001b[43m,\u001b[49m\n\u001b[1;32m   1883\u001b[0m \u001b[43m    \u001b[49m\u001b[43mmemory_map\u001b[49m\u001b[38;5;241;43m=\u001b[39;49m\u001b[38;5;28;43mself\u001b[39;49m\u001b[38;5;241;43m.\u001b[39;49m\u001b[43moptions\u001b[49m\u001b[38;5;241;43m.\u001b[39;49m\u001b[43mget\u001b[49m\u001b[43m(\u001b[49m\u001b[38;5;124;43m\"\u001b[39;49m\u001b[38;5;124;43mmemory_map\u001b[39;49m\u001b[38;5;124;43m\"\u001b[39;49m\u001b[43m,\u001b[49m\u001b[43m \u001b[49m\u001b[38;5;28;43;01mFalse\u001b[39;49;00m\u001b[43m)\u001b[49m\u001b[43m,\u001b[49m\n\u001b[1;32m   1884\u001b[0m \u001b[43m    \u001b[49m\u001b[43mis_text\u001b[49m\u001b[38;5;241;43m=\u001b[39;49m\u001b[43mis_text\u001b[49m\u001b[43m,\u001b[49m\n\u001b[1;32m   1885\u001b[0m \u001b[43m    \u001b[49m\u001b[43merrors\u001b[49m\u001b[38;5;241;43m=\u001b[39;49m\u001b[38;5;28;43mself\u001b[39;49m\u001b[38;5;241;43m.\u001b[39;49m\u001b[43moptions\u001b[49m\u001b[38;5;241;43m.\u001b[39;49m\u001b[43mget\u001b[49m\u001b[43m(\u001b[49m\u001b[38;5;124;43m\"\u001b[39;49m\u001b[38;5;124;43mencoding_errors\u001b[39;49m\u001b[38;5;124;43m\"\u001b[39;49m\u001b[43m,\u001b[49m\u001b[43m \u001b[49m\u001b[38;5;124;43m\"\u001b[39;49m\u001b[38;5;124;43mstrict\u001b[39;49m\u001b[38;5;124;43m\"\u001b[39;49m\u001b[43m)\u001b[49m\u001b[43m,\u001b[49m\n\u001b[1;32m   1886\u001b[0m \u001b[43m    \u001b[49m\u001b[43mstorage_options\u001b[49m\u001b[38;5;241;43m=\u001b[39;49m\u001b[38;5;28;43mself\u001b[39;49m\u001b[38;5;241;43m.\u001b[39;49m\u001b[43moptions\u001b[49m\u001b[38;5;241;43m.\u001b[39;49m\u001b[43mget\u001b[49m\u001b[43m(\u001b[49m\u001b[38;5;124;43m\"\u001b[39;49m\u001b[38;5;124;43mstorage_options\u001b[39;49m\u001b[38;5;124;43m\"\u001b[39;49m\u001b[43m,\u001b[49m\u001b[43m \u001b[49m\u001b[38;5;28;43;01mNone\u001b[39;49;00m\u001b[43m)\u001b[49m\u001b[43m,\u001b[49m\n\u001b[1;32m   1887\u001b[0m \u001b[43m\u001b[49m\u001b[43m)\u001b[49m\n\u001b[1;32m   1888\u001b[0m \u001b[38;5;28;01massert\u001b[39;00m \u001b[38;5;28mself\u001b[39m\u001b[38;5;241m.\u001b[39mhandles \u001b[38;5;129;01mis\u001b[39;00m \u001b[38;5;129;01mnot\u001b[39;00m \u001b[38;5;28;01mNone\u001b[39;00m\n\u001b[1;32m   1889\u001b[0m f \u001b[38;5;241m=\u001b[39m \u001b[38;5;28mself\u001b[39m\u001b[38;5;241m.\u001b[39mhandles\u001b[38;5;241m.\u001b[39mhandle\n",
      "File \u001b[0;32m/Library/Frameworks/Python.framework/Versions/3.12/lib/python3.12/site-packages/pandas/io/common.py:873\u001b[0m, in \u001b[0;36mget_handle\u001b[0;34m(path_or_buf, mode, encoding, compression, memory_map, is_text, errors, storage_options)\u001b[0m\n\u001b[1;32m    868\u001b[0m \u001b[38;5;28;01melif\u001b[39;00m \u001b[38;5;28misinstance\u001b[39m(handle, \u001b[38;5;28mstr\u001b[39m):\n\u001b[1;32m    869\u001b[0m     \u001b[38;5;66;03m# Check whether the filename is to be opened in binary mode.\u001b[39;00m\n\u001b[1;32m    870\u001b[0m     \u001b[38;5;66;03m# Binary mode does not support 'encoding' and 'newline'.\u001b[39;00m\n\u001b[1;32m    871\u001b[0m     \u001b[38;5;28;01mif\u001b[39;00m ioargs\u001b[38;5;241m.\u001b[39mencoding \u001b[38;5;129;01mand\u001b[39;00m \u001b[38;5;124m\"\u001b[39m\u001b[38;5;124mb\u001b[39m\u001b[38;5;124m\"\u001b[39m \u001b[38;5;129;01mnot\u001b[39;00m \u001b[38;5;129;01min\u001b[39;00m ioargs\u001b[38;5;241m.\u001b[39mmode:\n\u001b[1;32m    872\u001b[0m         \u001b[38;5;66;03m# Encoding\u001b[39;00m\n\u001b[0;32m--> 873\u001b[0m         handle \u001b[38;5;241m=\u001b[39m \u001b[38;5;28;43mopen\u001b[39;49m\u001b[43m(\u001b[49m\n\u001b[1;32m    874\u001b[0m \u001b[43m            \u001b[49m\u001b[43mhandle\u001b[49m\u001b[43m,\u001b[49m\n\u001b[1;32m    875\u001b[0m \u001b[43m            \u001b[49m\u001b[43mioargs\u001b[49m\u001b[38;5;241;43m.\u001b[39;49m\u001b[43mmode\u001b[49m\u001b[43m,\u001b[49m\n\u001b[1;32m    876\u001b[0m \u001b[43m            \u001b[49m\u001b[43mencoding\u001b[49m\u001b[38;5;241;43m=\u001b[39;49m\u001b[43mioargs\u001b[49m\u001b[38;5;241;43m.\u001b[39;49m\u001b[43mencoding\u001b[49m\u001b[43m,\u001b[49m\n\u001b[1;32m    877\u001b[0m \u001b[43m            \u001b[49m\u001b[43merrors\u001b[49m\u001b[38;5;241;43m=\u001b[39;49m\u001b[43merrors\u001b[49m\u001b[43m,\u001b[49m\n\u001b[1;32m    878\u001b[0m \u001b[43m            \u001b[49m\u001b[43mnewline\u001b[49m\u001b[38;5;241;43m=\u001b[39;49m\u001b[38;5;124;43m\"\u001b[39;49m\u001b[38;5;124;43m\"\u001b[39;49m\u001b[43m,\u001b[49m\n\u001b[1;32m    879\u001b[0m \u001b[43m        \u001b[49m\u001b[43m)\u001b[49m\n\u001b[1;32m    880\u001b[0m     \u001b[38;5;28;01melse\u001b[39;00m:\n\u001b[1;32m    881\u001b[0m         \u001b[38;5;66;03m# Binary mode\u001b[39;00m\n\u001b[1;32m    882\u001b[0m         handle \u001b[38;5;241m=\u001b[39m \u001b[38;5;28mopen\u001b[39m(handle, ioargs\u001b[38;5;241m.\u001b[39mmode)\n",
      "\u001b[0;31mFileNotFoundError\u001b[0m: [Errno 2] No such file or directory: '/kaggle/input/uw-madison-gi-tract-image-segmentation/train.csv'"
     ]
    }
   ],
   "source": [
    "import os, glob\n",
    "import pandas as pd\n",
    "import matplotlib.pyplot as plt\n",
    "\n",
    "DATASET_FOLDER = \"/kaggle/input/uw-madison-gi-tract-image-segmentation\"\n",
    "path_csv = os.path.join(DATASET_FOLDER, \"train.csv\")\n",
    "df_train = pd.read_csv(path_csv)\n",
    "display(df_train.head())"
   ]
  },
  {
   "cell_type": "code",
   "execution_count": null,
   "metadata": {},
   "outputs": [],
   "source": [
    "DIR_PATTERN = (\"case*\", \"case*_day*\", \"scans\")\n",
    "all_imgs = glob.glob(os.path.join(DATASET_FOLDER, \"train\", *DIR_PATTERN, \"*.png\"))\n",
    "all_imgs = [p.replace(DATASET_FOLDER, \"\") for p in all_imgs]\n",
    "\n",
    "print(f\"images: {len(all_imgs)}\")\n",
    "print(f\"annotated: {len(df_train['id'].unique())}\")"
   ]
  },
  {
   "cell_type": "markdown",
   "metadata": {},
   "source": [
    "# 🔎 Explore and enrich dataset\n",
    "\n",
    "Take the input train table and parse some additiona informations"
   ]
  },
  {
   "cell_type": "code",
   "execution_count": null,
   "metadata": {},
   "outputs": [],
   "source": [
    "fig, axes = plt.subplots(nrows=1, ncols=2, figsize=(12, 5))\n",
    "\n",
    "_= df_train[[\"class\"]].value_counts().plot.pie(ax=axes[0], autopct='%1.1f%%', ylabel=\"Class\")\n",
    "\n",
    "count_miss_segm = df_train[\"segmentation\"].isna().sum()\n",
    "_= pd.Series({\n",
    "    \"missing\": count_miss_segm,\n",
    "    \"exist\": len(df_train) - count_miss_segm,\n",
    "}).plot.pie(ax=axes[1], autopct='%1.1f%%', ylabel=\"Segmentation\")"
   ]
  },
  {
   "cell_type": "markdown",
   "metadata": {},
   "source": [
    "Add linking to the images in dataset folder"
   ]
  },
  {
   "cell_type": "code",
   "execution_count": null,
   "metadata": {
    "_kg_hide-input": true
   },
   "outputs": [],
   "source": [
    "def extract_details(id_):\n",
    "    id_fields = id_.split(\"_\")\n",
    "    case = id_fields[0].replace(\"case\", \"\")\n",
    "    day = id_fields[1].replace(\"day\", \"\")\n",
    "    slice_id = id_fields[3]\n",
    "    img_dir = os.path.join(DATASET_FOLDER, \"train\",\n",
    "                           f\"case{case}\", f\"case{case}_day{day}\", \"scans\")\n",
    "    imgs = glob.glob(os.path.join(img_dir, f\"slice_{slice_id}_*.png\"))\n",
    "    assert len(imgs) == 1\n",
    "    img_path = imgs[0].replace(DATASET_FOLDER + \"/\", \"\")\n",
    "    img = os.path.basename(img_path)\n",
    "    # slice_0001_266_266_1.50_1.50.png\n",
    "    im_fields = img.split(\"_\")\n",
    "    return {\n",
    "        \"Case\": int(case),\n",
    "        \"Day\": int(day),\n",
    "        \"Slice\": slice_id,\n",
    "        \"image\": img,\n",
    "        \"image_path\": img_path, \n",
    "        \"height\": int(im_fields[2]),\n",
    "        \"width\": int(im_fields[3]),\n",
    "    }"
   ]
  },
  {
   "cell_type": "code",
   "execution_count": null,
   "metadata": {},
   "outputs": [],
   "source": [
    "df_train[['Case','Day','Slice', 'image', 'image_path', 'height', 'width']] = \\\n",
    "    df_train['id'].apply(lambda x: pd.Series(extract_details(x)))\n",
    "display(df_train.head())"
   ]
  },
  {
   "cell_type": "markdown",
   "metadata": {},
   "source": [
    "Compare timeseries and stack sizes"
   ]
  },
  {
   "cell_type": "code",
   "execution_count": null,
   "metadata": {
    "_kg_hide-input": true
   },
   "outputs": [],
   "source": [
    "from tqdm.auto import tqdm\n",
    "\n",
    "train_overview = []\n",
    "for (case, day), dfg in tqdm(df_train.groupby([\"Case\", \"Day\"])):\n",
    "    train_overview.append({\"Day\": int(day), \"Case\": int(case), \"Slices\": len(dfg)})\n",
    "df_train_overview = pd.DataFrame(train_overview)\n",
    "display(df_train_overview.head())"
   ]
  },
  {
   "cell_type": "code",
   "execution_count": null,
   "metadata": {},
   "outputs": [],
   "source": [
    "train_ = []\n",
    "for id_, dfg in tqdm(df_train.groupby(\"id\")):\n",
    "    row = dict(dfg.iloc[0])\n",
    "    del row[\"class\"]\n",
    "    del row[\"segmentation\"]\n",
    "    for _, (cls, segm) in dfg[[\"class\", \"segmentation\"]].iterrows():\n",
    "        row[cls] = segm\n",
    "    train_.append(row)\n",
    "df_train_aggr = pd.DataFrame(train_)\n",
    "display(df_train_aggr.head())"
   ]
  },
  {
   "cell_type": "code",
   "execution_count": null,
   "metadata": {},
   "outputs": [],
   "source": [
    "fig, axes = plt.subplots(nrows=1, ncols=2, figsize=(12, 4))\n",
    "df_uq = df_train_aggr.drop_duplicates([\"Case\",\"Day\"])\n",
    "df_uq[\"Day\"].hist(ax=axes[0], bins=40)\n",
    "axes[0].set_xlabel(\"day indexes\")\n",
    "df_uq[\"Case\"].value_counts().hist(ax=axes[1], bins=5)\n",
    "axes[0].set_xlabel(\"sampled days\")"
   ]
  },
  {
   "cell_type": "code",
   "execution_count": null,
   "metadata": {},
   "outputs": [],
   "source": [
    "fig, axes = plt.subplots(nrows=1, ncols=2, figsize=(12, 4))\n",
    "df_hw = df_train_aggr.drop_duplicates([\"Case\",\"Day\"])[[\"height\", \"width\"]]\n",
    "df_hw.value_counts().plot.bar(ax=axes[0], grid=True)\n",
    "df_train_aggr.groupby([\"Case\",\"Day\"]).size().value_counts().plot.pie(ax=axes[1])"
   ]
  },
  {
   "cell_type": "code",
   "execution_count": null,
   "metadata": {},
   "outputs": [],
   "source": [
    "cls_segm = {k: len(df_train_aggr) - df_train_aggr[k].isna().sum()\n",
    "            for k in (\"large_bowel\", \"small_bowel\", \"stomach\")}\n",
    "ax = pd.Series(cls_segm).plot.bar(grid=True, figsize=(6, 3))\n",
    "ax.set_ylabel(\"nb slices\")"
   ]
  },
  {
   "cell_type": "markdown",
   "metadata": {},
   "source": [
    "# Browse ⚕️ 3D image"
   ]
  },
  {
   "cell_type": "code",
   "execution_count": null,
   "metadata": {
    "_kg_hide-input": true
   },
   "outputs": [],
   "source": [
    "import numpy as np\n",
    "from PIL import Image\n",
    "\n",
    "def load_image_volume(img_dir, quant=0.01):\n",
    "    img_paths = sorted(glob.glob(os.path.join(img_dir, f\"*.png\")))\n",
    "    imgs = [np.array(Image.open(p)).tolist() for p in img_paths]\n",
    "    # print([np.max(im) for im in imgs])\n",
    "    vol = np.array(imgs)\n",
    "    if quant:\n",
    "        q_low, q_high = np.percentile(vol, [quant * 100, (1 - quant) * 100])\n",
    "        vol = np.clip(vol, q_low, q_high)\n",
    "    v_min, v_max = np.min(vol), np.max(vol)\n",
    "    print(v_min, v_max)\n",
    "    vol = (vol - v_min) / float(v_max - v_min)\n",
    "    vol = (vol * 255).astype(np.uint8)\n",
    "    return vol"
   ]
  },
  {
   "cell_type": "code",
   "execution_count": null,
   "metadata": {
    "_kg_hide-input": true
   },
   "outputs": [],
   "source": [
    "from kaggle_imsegm.mask import rle_decode\n",
    "\n",
    "def create_organs_segm(df_vol, vol_shape):\n",
    "    df_vol = df_vol.replace(np.nan, '')\n",
    "    segm = np.zeros(vol_shape, dtype=np.uint8)\n",
    "    lbs = sorted(df_vol[\"class\"].unique())\n",
    "    for idx_, dfg in df_vol.groupby(\"Slice\"):\n",
    "        idx = int(idx_) - 1\n",
    "        mask = segm[idx, :, :]\n",
    "        for _, (lb, rle) in dfg[[\"class\", \"segmentation\"]].iterrows():\n",
    "            lb = lbs.index(lb) + 1\n",
    "            if not rle:\n",
    "                continue\n",
    "            mask = rle_decode(rle, img=mask, label=lb)\n",
    "        segm[idx, :, :] = mask\n",
    "        # plt.figure(); plt.imshow(mask)\n",
    "    return segm"
   ]
  },
  {
   "cell_type": "code",
   "execution_count": null,
   "metadata": {},
   "outputs": [],
   "source": [
    "CASE = 114\n",
    "DAY = 15\n",
    "IMAGE_FOLDER = os.path.join(\n",
    "    DATASET_FOLDER, \"train\", f\"case{CASE}\", f\"case{CASE}_day{DAY}\", \"scans\")\n",
    "\n",
    "vol = load_image_volume(img_dir=IMAGE_FOLDER)\n",
    "plt.plot(np.bincount(vol.flatten()))\n",
    "plt.yscale(\"log\")\n",
    "plt.grid()\n",
    "print(vol.shape)\n",
    "\n",
    "df_ = df_train[(df_train[\"Case\"] == CASE) & (df_train[\"Day\"] == DAY)]\n",
    "segm = create_organs_segm(df_vol=df_, vol_shape=vol.shape)\n",
    "print(segm.shape)"
   ]
  },
  {
   "cell_type": "code",
   "execution_count": null,
   "metadata": {
    "_kg_hide-input": true
   },
   "outputs": [],
   "source": [
    "from ipywidgets import interact, IntSlider\n",
    "from matplotlib.patches import PathPatch, Rectangle\n",
    "from matplotlib.path import Path\n",
    "from skimage import color\n",
    "\n",
    "\n",
    "def _draw_line(ax, coords, clr='g'):\n",
    "    line = Path(coords, [Path.MOVETO, Path.LINETO])\n",
    "    pp = PathPatch(line, linewidth=3, edgecolor=clr, facecolor='none')\n",
    "    ax.add_patch(pp)\n",
    "\n",
    "def _set_axes_labels(ax, axes_x, axes_y):\n",
    "    ax.set_xlabel(axes_x)\n",
    "    ax.set_ylabel(axes_y)\n",
    "    ax.set_aspect('equal', 'box')\n",
    "\n",
    "_rec_prop = dict(linewidth=5, facecolor='none')\n",
    "\n",
    "def show_volume(vol, segm, z, y, x, fig_size=(9, 9)):\n",
    "    fig, axarr = plt.subplots(nrows=2, ncols=2, figsize=fig_size)\n",
    "    v_z, v_y, v_x = vol.shape\n",
    "    # axarr[0, 0].imshow(vol[x, :, :], cmap=\"gray\", vmin=0, vmax=255)\n",
    "    # axarr[0, 1].imshow(vol[:, :, z], cmap=\"gray\", vmin=0, vmax=255)\n",
    "    # axarr[1, 0].imshow(vol[:, y, :], cmap=\"gray\", vmin=0, vmax=255)\n",
    "    axarr[0, 0].imshow(color.label2rgb(segm[z, :, :], vol[z, :, :]))\n",
    "    axarr[0, 0].add_patch(Rectangle((-1, -1), v_x, v_y, edgecolor='r', **_rec_prop))\n",
    "    _draw_line(axarr[0, 0], [(x, 0), (x, v_y)], \"g\")\n",
    "    _draw_line(axarr[0, 0], [(0, y), (v_x, y)], \"b\")\n",
    "    _set_axes_labels(axarr[0, 0], \"X\", \"Y\")\n",
    "    axarr[0, 1].imshow(color.label2rgb(segm[:, :, x].T, vol[:, :, x].T))\n",
    "    axarr[0, 1].add_patch(Rectangle((-1, -1), v_z, v_y, edgecolor='g', **_rec_prop))\n",
    "    _draw_line(axarr[0, 1], [(z, 0), (z, v_y)], \"r\")\n",
    "    _draw_line(axarr[0, 1], [(0, y), (v_x, y)], \"b\")\n",
    "    _set_axes_labels(axarr[0, 1], \"Z\", \"Y\")\n",
    "    axarr[1, 0].imshow(color.label2rgb(segm[:, y, :], vol[:, y, :]))\n",
    "    axarr[1, 0].add_patch(Rectangle((-1, -1), v_x, v_z, edgecolor='b', **_rec_prop))\n",
    "    _draw_line(axarr[1, 0], [(0, z), (v_x, z)], \"r\")\n",
    "    _draw_line(axarr[1, 0], [(x, 0), (x, v_y)], \"g\")\n",
    "    _set_axes_labels(axarr[1, 0], \"X\", \"Z\")\n",
    "    axarr[1, 1].set_axis_off()\n",
    "    fig.tight_layout()\n",
    "\n",
    "\n",
    "def interactive_show(volume):\n",
    "    vol_shape = volume.shape\n",
    "    interact(\n",
    "        lambda x, y, z: plt.show(show_volume(volume, segm, z, y, x)),\n",
    "        z=IntSlider(min=0, max=vol_shape[0], step=5, value=int(vol_shape[0] / 2)),\n",
    "        y=IntSlider(min=0, max=vol_shape[1], step=5, value=int(vol_shape[1] / 2)),\n",
    "        x=IntSlider(min=0, max=vol_shape[2], step=5, value=int(vol_shape[2] / 2)),\n",
    "    )"
   ]
  },
  {
   "cell_type": "code",
   "execution_count": null,
   "metadata": {},
   "outputs": [],
   "source": [
    "interactive_show(vol)"
   ]
  }
 ],
 "metadata": {
  "kaggle": {
   "accelerator": "none",
   "dataSources": [
    {
     "databundleVersionId": 3495119,
     "sourceId": 27923,
     "sourceType": "competition"
    }
   ],
   "dockerImageVersionId": 30178,
   "isGpuEnabled": false,
   "isInternetEnabled": true,
   "language": "python",
   "sourceType": "notebook"
  },
  "kernelspec": {
   "display_name": "Python 3 (ipykernel)",
   "language": "python",
   "name": "python3"
  },
  "language_info": {
   "codemirror_mode": {
    "name": "ipython",
    "version": 3
   },
   "file_extension": ".py",
   "mimetype": "text/x-python",
   "name": "python",
   "nbconvert_exporter": "python",
   "pygments_lexer": "ipython3",
   "version": "3.12.1"
  }
 },
 "nbformat": 4,
 "nbformat_minor": 4
}
