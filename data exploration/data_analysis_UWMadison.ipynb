{
 "cells": [
  {
   "cell_type": "markdown",
   "id": "45db8373",
   "metadata": {},
   "source": [
    "# Data Analysis UW Madison"
   ]
  },
  {
   "cell_type": "markdown",
   "id": "ecfd08b5",
   "metadata": {},
   "source": [
    "## Data Overview"
   ]
  },
  {
   "cell_type": "code",
   "execution_count": 4,
   "id": "db35e053",
   "metadata": {},
   "outputs": [
    {
     "data": {
      "text/html": [
       "<div>\n",
       "<style scoped>\n",
       "    .dataframe tbody tr th:only-of-type {\n",
       "        vertical-align: middle;\n",
       "    }\n",
       "\n",
       "    .dataframe tbody tr th {\n",
       "        vertical-align: top;\n",
       "    }\n",
       "\n",
       "    .dataframe thead th {\n",
       "        text-align: right;\n",
       "    }\n",
       "</style>\n",
       "<table border=\"1\" class=\"dataframe\">\n",
       "  <thead>\n",
       "    <tr style=\"text-align: right;\">\n",
       "      <th></th>\n",
       "      <th>id</th>\n",
       "      <th>class</th>\n",
       "      <th>segmentation</th>\n",
       "    </tr>\n",
       "  </thead>\n",
       "  <tbody>\n",
       "    <tr>\n",
       "      <th>0</th>\n",
       "      <td>case123_day20_slice_0001</td>\n",
       "      <td>large_bowel</td>\n",
       "      <td>NaN</td>\n",
       "    </tr>\n",
       "    <tr>\n",
       "      <th>1</th>\n",
       "      <td>case123_day20_slice_0001</td>\n",
       "      <td>small_bowel</td>\n",
       "      <td>NaN</td>\n",
       "    </tr>\n",
       "    <tr>\n",
       "      <th>2</th>\n",
       "      <td>case123_day20_slice_0001</td>\n",
       "      <td>stomach</td>\n",
       "      <td>NaN</td>\n",
       "    </tr>\n",
       "    <tr>\n",
       "      <th>3</th>\n",
       "      <td>case123_day20_slice_0002</td>\n",
       "      <td>large_bowel</td>\n",
       "      <td>NaN</td>\n",
       "    </tr>\n",
       "    <tr>\n",
       "      <th>4</th>\n",
       "      <td>case123_day20_slice_0002</td>\n",
       "      <td>small_bowel</td>\n",
       "      <td>NaN</td>\n",
       "    </tr>\n",
       "  </tbody>\n",
       "</table>\n",
       "</div>"
      ],
      "text/plain": [
       "                         id        class segmentation\n",
       "0  case123_day20_slice_0001  large_bowel          NaN\n",
       "1  case123_day20_slice_0001  small_bowel          NaN\n",
       "2  case123_day20_slice_0001      stomach          NaN\n",
       "3  case123_day20_slice_0002  large_bowel          NaN\n",
       "4  case123_day20_slice_0002  small_bowel          NaN"
      ]
     },
     "execution_count": 4,
     "metadata": {},
     "output_type": "execute_result"
    }
   ],
   "source": [
    "import pandas as pd\n",
    "import numpy as np\n",
    "import matplotlib.pyplot as plt\n",
    "import seaborn as sns\n",
    "\n",
    "df = pd.read_csv('/Users/elizabethnemeti/Desktop/uw-madison-gi-tract-image-segmentation/train.csv')\n",
    "df.head()"
   ]
  },
  {
   "cell_type": "code",
   "execution_count": 5,
   "id": "740a0d05",
   "metadata": {},
   "outputs": [
    {
     "data": {
      "text/html": [
       "<div>\n",
       "<style scoped>\n",
       "    .dataframe tbody tr th:only-of-type {\n",
       "        vertical-align: middle;\n",
       "    }\n",
       "\n",
       "    .dataframe tbody tr th {\n",
       "        vertical-align: top;\n",
       "    }\n",
       "\n",
       "    .dataframe thead th {\n",
       "        text-align: right;\n",
       "    }\n",
       "</style>\n",
       "<table border=\"1\" class=\"dataframe\">\n",
       "  <thead>\n",
       "    <tr style=\"text-align: right;\">\n",
       "      <th></th>\n",
       "      <th>id</th>\n",
       "      <th>class</th>\n",
       "      <th>segmentation</th>\n",
       "    </tr>\n",
       "  </thead>\n",
       "  <tbody>\n",
       "    <tr>\n",
       "      <th>0</th>\n",
       "      <td>case123_day20_slice_0001</td>\n",
       "      <td>large_bowel</td>\n",
       "      <td>NaN</td>\n",
       "    </tr>\n",
       "    <tr>\n",
       "      <th>1</th>\n",
       "      <td>case123_day20_slice_0001</td>\n",
       "      <td>small_bowel</td>\n",
       "      <td>NaN</td>\n",
       "    </tr>\n",
       "    <tr>\n",
       "      <th>2</th>\n",
       "      <td>case123_day20_slice_0001</td>\n",
       "      <td>stomach</td>\n",
       "      <td>NaN</td>\n",
       "    </tr>\n",
       "    <tr>\n",
       "      <th>3</th>\n",
       "      <td>case123_day20_slice_0002</td>\n",
       "      <td>large_bowel</td>\n",
       "      <td>NaN</td>\n",
       "    </tr>\n",
       "    <tr>\n",
       "      <th>4</th>\n",
       "      <td>case123_day20_slice_0002</td>\n",
       "      <td>small_bowel</td>\n",
       "      <td>NaN</td>\n",
       "    </tr>\n",
       "    <tr>\n",
       "      <th>...</th>\n",
       "      <td>...</td>\n",
       "      <td>...</td>\n",
       "      <td>...</td>\n",
       "    </tr>\n",
       "    <tr>\n",
       "      <th>115483</th>\n",
       "      <td>case30_day0_slice_0143</td>\n",
       "      <td>small_bowel</td>\n",
       "      <td>NaN</td>\n",
       "    </tr>\n",
       "    <tr>\n",
       "      <th>115484</th>\n",
       "      <td>case30_day0_slice_0143</td>\n",
       "      <td>stomach</td>\n",
       "      <td>NaN</td>\n",
       "    </tr>\n",
       "    <tr>\n",
       "      <th>115485</th>\n",
       "      <td>case30_day0_slice_0144</td>\n",
       "      <td>large_bowel</td>\n",
       "      <td>NaN</td>\n",
       "    </tr>\n",
       "    <tr>\n",
       "      <th>115486</th>\n",
       "      <td>case30_day0_slice_0144</td>\n",
       "      <td>small_bowel</td>\n",
       "      <td>NaN</td>\n",
       "    </tr>\n",
       "    <tr>\n",
       "      <th>115487</th>\n",
       "      <td>case30_day0_slice_0144</td>\n",
       "      <td>stomach</td>\n",
       "      <td>NaN</td>\n",
       "    </tr>\n",
       "  </tbody>\n",
       "</table>\n",
       "<p>115488 rows × 3 columns</p>\n",
       "</div>"
      ],
      "text/plain": [
       "                              id        class segmentation\n",
       "0       case123_day20_slice_0001  large_bowel          NaN\n",
       "1       case123_day20_slice_0001  small_bowel          NaN\n",
       "2       case123_day20_slice_0001      stomach          NaN\n",
       "3       case123_day20_slice_0002  large_bowel          NaN\n",
       "4       case123_day20_slice_0002  small_bowel          NaN\n",
       "...                          ...          ...          ...\n",
       "115483    case30_day0_slice_0143  small_bowel          NaN\n",
       "115484    case30_day0_slice_0143      stomach          NaN\n",
       "115485    case30_day0_slice_0144  large_bowel          NaN\n",
       "115486    case30_day0_slice_0144  small_bowel          NaN\n",
       "115487    case30_day0_slice_0144      stomach          NaN\n",
       "\n",
       "[115488 rows x 3 columns]"
      ]
     },
     "execution_count": 5,
     "metadata": {},
     "output_type": "execute_result"
    }
   ],
   "source": [
    "df[df['segmentation'] != np.nan]"
   ]
  },
  {
   "cell_type": "code",
   "execution_count": 6,
   "id": "cf61d012",
   "metadata": {},
   "outputs": [
    {
     "name": "stdout",
     "output_type": "stream",
     "text": [
      "<class 'pandas.core.frame.DataFrame'>\n",
      "RangeIndex: 115488 entries, 0 to 115487\n",
      "Data columns (total 3 columns):\n",
      " #   Column        Non-Null Count   Dtype \n",
      "---  ------        --------------   ----- \n",
      " 0   id            115488 non-null  object\n",
      " 1   class         115488 non-null  object\n",
      " 2   segmentation  33913 non-null   object\n",
      "dtypes: object(3)\n",
      "memory usage: 2.6+ MB\n"
     ]
    }
   ],
   "source": [
    "df.info()"
   ]
  },
  {
   "cell_type": "code",
   "execution_count": 7,
   "id": "ff007303",
   "metadata": {},
   "outputs": [
    {
     "data": {
      "text/html": [
       "<div>\n",
       "<style scoped>\n",
       "    .dataframe tbody tr th:only-of-type {\n",
       "        vertical-align: middle;\n",
       "    }\n",
       "\n",
       "    .dataframe tbody tr th {\n",
       "        vertical-align: top;\n",
       "    }\n",
       "\n",
       "    .dataframe thead th {\n",
       "        text-align: right;\n",
       "    }\n",
       "</style>\n",
       "<table border=\"1\" class=\"dataframe\">\n",
       "  <thead>\n",
       "    <tr style=\"text-align: right;\">\n",
       "      <th></th>\n",
       "      <th>id</th>\n",
       "      <th>class</th>\n",
       "      <th>segmentation</th>\n",
       "    </tr>\n",
       "  </thead>\n",
       "  <tbody>\n",
       "    <tr>\n",
       "      <th>count</th>\n",
       "      <td>115488</td>\n",
       "      <td>115488</td>\n",
       "      <td>33913</td>\n",
       "    </tr>\n",
       "    <tr>\n",
       "      <th>unique</th>\n",
       "      <td>38496</td>\n",
       "      <td>3</td>\n",
       "      <td>33899</td>\n",
       "    </tr>\n",
       "    <tr>\n",
       "      <th>top</th>\n",
       "      <td>case123_day20_slice_0001</td>\n",
       "      <td>large_bowel</td>\n",
       "      <td>12629 10 12894 12 13158 15 13423 17 13688 19 1...</td>\n",
       "    </tr>\n",
       "    <tr>\n",
       "      <th>freq</th>\n",
       "      <td>3</td>\n",
       "      <td>38496</td>\n",
       "      <td>2</td>\n",
       "    </tr>\n",
       "  </tbody>\n",
       "</table>\n",
       "</div>"
      ],
      "text/plain": [
       "                              id        class  \\\n",
       "count                     115488       115488   \n",
       "unique                     38496            3   \n",
       "top     case123_day20_slice_0001  large_bowel   \n",
       "freq                           3        38496   \n",
       "\n",
       "                                             segmentation  \n",
       "count                                               33913  \n",
       "unique                                              33899  \n",
       "top     12629 10 12894 12 13158 15 13423 17 13688 19 1...  \n",
       "freq                                                    2  "
      ]
     },
     "execution_count": 7,
     "metadata": {},
     "output_type": "execute_result"
    }
   ],
   "source": [
    "df.describe(include='all')"
   ]
  },
  {
   "cell_type": "code",
   "execution_count": 8,
   "id": "27539857",
   "metadata": {},
   "outputs": [
    {
     "data": {
      "text/plain": [
       "id                  0\n",
       "class               0\n",
       "segmentation    81575\n",
       "dtype: int64"
      ]
     },
     "execution_count": 8,
     "metadata": {},
     "output_type": "execute_result"
    }
   ],
   "source": [
    "missing_values = df.isnull().sum()\n",
    "missing_values"
   ]
  },
  {
   "cell_type": "code",
   "execution_count": 9,
   "id": "16fbbc93",
   "metadata": {},
   "outputs": [
    {
     "data": {
      "text/plain": [
       "0"
      ]
     },
     "execution_count": 9,
     "metadata": {},
     "output_type": "execute_result"
    }
   ],
   "source": [
    "duplicate_entries = df.duplicated().sum()\n",
    "duplicate_entries"
   ]
  },
  {
   "cell_type": "code",
   "execution_count": 10,
   "id": "5138823b",
   "metadata": {},
   "outputs": [
    {
     "data": {
      "text/plain": [
       "array(['large_bowel', 'small_bowel', 'stomach'], dtype=object)"
      ]
     },
     "execution_count": 10,
     "metadata": {},
     "output_type": "execute_result"
    }
   ],
   "source": [
    "unique_classes = df['class'].unique()\n",
    "unique_classes"
   ]
  },
  {
   "cell_type": "markdown",
   "id": "f33e513a",
   "metadata": {},
   "source": [
    "## Handling Missing Values"
   ]
  },
  {
   "cell_type": "code",
   "execution_count": 11,
   "id": "7e97437c",
   "metadata": {},
   "outputs": [
    {
     "name": "stdout",
     "output_type": "stream",
     "text": [
      "<class 'pandas.core.frame.DataFrame'>\n",
      "Index: 33913 entries, 194 to 115465\n",
      "Data columns (total 3 columns):\n",
      " #   Column        Non-Null Count  Dtype \n",
      "---  ------        --------------  ----- \n",
      " 0   id            33913 non-null  object\n",
      " 1   class         33913 non-null  object\n",
      " 2   segmentation  33913 non-null  object\n",
      "dtypes: object(3)\n",
      "memory usage: 1.0+ MB\n",
      "<class 'pandas.core.frame.DataFrame'>\n",
      "Index: 81575 entries, 0 to 115487\n",
      "Data columns (total 3 columns):\n",
      " #   Column        Non-Null Count  Dtype \n",
      "---  ------        --------------  ----- \n",
      " 0   id            81575 non-null  object\n",
      " 1   class         81575 non-null  object\n",
      " 2   segmentation  0 non-null      object\n",
      "dtypes: object(3)\n",
      "memory usage: 2.5+ MB\n"
     ]
    },
    {
     "data": {
      "text/plain": [
       "(None,\n",
       "                               id    class segmentation\n",
       " count                      81575    81575            0\n",
       " unique                     35295        3            0\n",
       " top     case123_day20_slice_0001  stomach          NaN\n",
       " freq                           3    29869          NaN)"
      ]
     },
     "execution_count": 11,
     "metadata": {},
     "output_type": "execute_result"
    }
   ],
   "source": [
    "df_with_segmentation = df.dropna(subset=['segmentation'])\n",
    "df_without_segmentation = df[df['segmentation'].isnull()]\n",
    "\n",
    "df_with_segmentation.info(), df_with_segmentation.describe(include='all')\n",
    "df_without_segmentation.info(), df_without_segmentation.describe(include='all')"
   ]
  },
  {
   "cell_type": "markdown",
   "id": "7a29bd92",
   "metadata": {},
   "source": [
    "Descriptive Statistics and Visualization for Segmented Data"
   ]
  },
  {
   "cell_type": "code",
   "execution_count": 12,
   "id": "541458f3",
   "metadata": {},
   "outputs": [
    {
     "data": {
      "image/png": "[encoded data removed]",
      "text/plain": [
       "<Figure size 1000x600 with 1 Axes>"
      ]
     },
     "metadata": {},
     "output_type": "display_data"
    },
    {
     "data": {
      "text/plain": [
       "(class\n",
       " large_bowel    14085\n",
       " small_bowel    11201\n",
       " stomach         8627\n",
       " Name: count, dtype: int64,\n",
       " count                                                 33913\n",
       " unique                                                33899\n",
       " top       12629 10 12894 12 13158 15 13423 17 13688 19 1...\n",
       " freq                                                      2\n",
       " Name: segmentation, dtype: object)"
      ]
     },
     "execution_count": 12,
     "metadata": {},
     "output_type": "execute_result"
    }
   ],
   "source": [
    "\n",
    "class_distribution = df_with_segmentation['class'].value_counts()\n",
    "segmentation_stats = df_with_segmentation['segmentation'].describe()\n",
    "\n",
    "plt.figure(figsize=(10, 6))\n",
    "sns.countplot(data=df_with_segmentation, x='class', order=class_distribution.index)\n",
    "plt.title('Class Distribution in Segmented Data')\n",
    "plt.xlabel('Class')\n",
    "plt.ylabel('Count')\n",
    "plt.show()\n",
    "\n",
    "class_distribution, segmentation_stats"
   ]
  },
  {
   "cell_type": "markdown",
   "id": "aa7f3e63",
   "metadata": {},
   "source": [
    "## Exploring the Relationship Between `class` and `segmentation`"
   ]
  },
  {
   "cell_type": "code",
   "execution_count": 13,
   "id": "ad8534d7",
   "metadata": {},
   "outputs": [
    {
     "name": "stderr",
     "output_type": "stream",
     "text": [
      "/var/folders/fm/j8jgcsf90d1g6lkqzrw2mptw0000gn/T/ipykernel_13717/1246948072.py:1: SettingWithCopyWarning: \n",
      "A value is trying to be set on a copy of a slice from a DataFrame.\n",
      "Try using .loc[row_indexer,col_indexer] = value instead\n",
      "\n",
      "See the caveats in the documentation: https://pandas.pydata.org/pandas-docs/stable/user_guide/indexing.html#returning-a-view-versus-a-copy\n",
      "  df_with_segmentation['segmentation_length'] = df_with_segmentation['segmentation'].apply(len)\n"
     ]
    },
    {
     "data": {
      "image/png": "[encoded data removed]",
      "text/plain": [
       "<Figure size 1200x800 with 1 Axes>"
      ]
     },
     "metadata": {},
     "output_type": "display_data"
    },
    {
     "data": {
      "text/html": [
       "<div>\n",
       "<style scoped>\n",
       "    .dataframe tbody tr th:only-of-type {\n",
       "        vertical-align: middle;\n",
       "    }\n",
       "\n",
       "    .dataframe tbody tr th {\n",
       "        vertical-align: top;\n",
       "    }\n",
       "\n",
       "    .dataframe thead th {\n",
       "        text-align: right;\n",
       "    }\n",
       "</style>\n",
       "<table border=\"1\" class=\"dataframe\">\n",
       "  <thead>\n",
       "    <tr style=\"text-align: right;\">\n",
       "      <th></th>\n",
       "      <th>count</th>\n",
       "      <th>mean</th>\n",
       "      <th>std</th>\n",
       "      <th>min</th>\n",
       "      <th>25%</th>\n",
       "      <th>50%</th>\n",
       "      <th>75%</th>\n",
       "      <th>max</th>\n",
       "    </tr>\n",
       "    <tr>\n",
       "      <th>class</th>\n",
       "      <th></th>\n",
       "      <th></th>\n",
       "      <th></th>\n",
       "      <th></th>\n",
       "      <th></th>\n",
       "      <th></th>\n",
       "      <th></th>\n",
       "      <th></th>\n",
       "    </tr>\n",
       "  </thead>\n",
       "  <tbody>\n",
       "    <tr>\n",
       "      <th>large_bowel</th>\n",
       "      <td>14085.0</td>\n",
       "      <td>650.160028</td>\n",
       "      <td>338.489122</td>\n",
       "      <td>23.0</td>\n",
       "      <td>384.0</td>\n",
       "      <td>600.0</td>\n",
       "      <td>864.0</td>\n",
       "      <td>2052.0</td>\n",
       "    </tr>\n",
       "    <tr>\n",
       "      <th>small_bowel</th>\n",
       "      <td>11201.0</td>\n",
       "      <td>768.418445</td>\n",
       "      <td>417.593577</td>\n",
       "      <td>47.0</td>\n",
       "      <td>481.0</td>\n",
       "      <td>715.0</td>\n",
       "      <td>1008.0</td>\n",
       "      <td>2351.0</td>\n",
       "    </tr>\n",
       "    <tr>\n",
       "      <th>stomach</th>\n",
       "      <td>8627.0</td>\n",
       "      <td>400.699316</td>\n",
       "      <td>225.723125</td>\n",
       "      <td>39.0</td>\n",
       "      <td>224.0</td>\n",
       "      <td>332.0</td>\n",
       "      <td>555.0</td>\n",
       "      <td>1228.0</td>\n",
       "    </tr>\n",
       "  </tbody>\n",
       "</table>\n",
       "</div>"
      ],
      "text/plain": [
       "               count        mean         std   min    25%    50%     75%  \\\n",
       "class                                                                      \n",
       "large_bowel  14085.0  650.160028  338.489122  23.0  384.0  600.0   864.0   \n",
       "small_bowel  11201.0  768.418445  417.593577  47.0  481.0  715.0  1008.0   \n",
       "stomach       8627.0  400.699316  225.723125  39.0  224.0  332.0   555.0   \n",
       "\n",
       "                max  \n",
       "class                \n",
       "large_bowel  2052.0  \n",
       "small_bowel  2351.0  \n",
       "stomach      1228.0  "
      ]
     },
     "execution_count": 13,
     "metadata": {},
     "output_type": "execute_result"
    }
   ],
   "source": [
    "df_with_segmentation['segmentation_length'] = df_with_segmentation['segmentation'].apply(len)\n",
    "segmentation_length_stats = df_with_segmentation.groupby('class')['segmentation_length'].describe()\n",
    "\n",
    "plt.figure(figsize=(12, 8))\n",
    "sns.boxplot(data=df_with_segmentation, x='class', y='segmentation_length')\n",
    "plt.title('Segmentation Length Distribution by Class')\n",
    "plt.xlabel('Class')\n",
    "plt.ylabel('Segmentation Length')\n",
    "plt.show()\n",
    "\n",
    "segmentation_length_stats"
   ]
  },
  {
   "cell_type": "markdown",
   "id": "403f85ff",
   "metadata": {},
   "source": [
    "## Insights into the Dataset without Segmentation Data"
   ]
  },
  {
   "cell_type": "code",
   "execution_count": 14,
   "id": "98008254",
   "metadata": {},
   "outputs": [
    {
     "data": {
      "image/png": "[encoded data removed]",
      "text/plain": [
       "<Figure size 1000x600 with 1 Axes>"
      ]
     },
     "metadata": {},
     "output_type": "display_data"
    },
    {
     "data": {
      "text/plain": [
       "class\n",
       "stomach        29869\n",
       "small_bowel    27295\n",
       "large_bowel    24411\n",
       "Name: count, dtype: int64"
      ]
     },
     "execution_count": 14,
     "metadata": {},
     "output_type": "execute_result"
    }
   ],
   "source": [
    "class_distribution_no_segmentation = df_without_segmentation['class'].value_counts()\n",
    "\n",
    "plt.figure(figsize=(10, 6))\n",
    "sns.countplot(data=df_without_segmentation, x='class', order=class_distribution_no_segmentation.index)\n",
    "plt.title('Class Distribution in Non-Segmented Data')\n",
    "plt.xlabel('Class')\n",
    "plt.ylabel('Count')\n",
    "plt.show()\n",
    "\n",
    "class_distribution_no_segmentation"
   ]
  },
  {
   "cell_type": "markdown",
   "id": "d0f4e9b2",
   "metadata": {},
   "source": [
    "\n",
    "### Key Findings\n",
    "1. **Class Distribution**:\n",
    "   - In the segmented dataset, `large_bowel` is the most frequent class.\n",
    "   - In the non-segmented dataset, `stomach` is the most frequent class.\n",
    "\n",
    "2. **Segmentation Length Analysis**:\n",
    "   - `small_bowel` has the highest mean segmentation length, indicating more complex or larger segmentation regions.\n",
    "   - `large_bowel` and `stomach` follow with shorter mean segmentation lengths.\n",
    "\n",
    "3. **Missing Segmentation Data**:\n",
    "   - A significant portion (81.575 rows) of the dataset lacks segmentation data.\n"
   ]
  },
  {
   "cell_type": "markdown",
   "id": "7e1f6a0f",
   "metadata": {},
   "source": []
  }
 ],
 "metadata": {
  "kernelspec": {
   "display_name": "Python (UNETENV)",
   "language": "python",
   "name": "unetenv"
  },
  "language_info": {
   "codemirror_mode": {
    "name": "ipython",
    "version": 3
   },
   "file_extension": ".py",
   "mimetype": "text/x-python",
   "name": "python",
   "nbconvert_exporter": "python",
   "pygments_lexer": "ipython3",
   "version": "3.11.5"
  }
 },
 "nbformat": 4,
 "nbformat_minor": 5
}
