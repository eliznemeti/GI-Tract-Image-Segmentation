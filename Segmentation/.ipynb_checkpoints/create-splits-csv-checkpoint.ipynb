{
 "cells": [
  {
   "cell_type": "code",
   "execution_count": 11,
   "id": "bde5ab4f-ead5-405e-b758-c9fa45eb8da7",
   "metadata": {},
   "outputs": [
    {
     "name": "stdout",
     "output_type": "stream",
     "text": [
      "> SEEDING DONE\n",
      "Splits saved to /Users/elizabethnemeti/Desktop/uwdatapreprocessing/splits.csv\n"
     ]
    }
   ],
   "source": [
    "import pandas as pd\n",
    "from sklearn.model_selection import StratifiedGroupKFold\n",
    "import os\n",
    "\n",
    "# Configuration\n",
    "class CFG:\n",
    "    seed = 101\n",
    "    n_fold = 5\n",
    "\n",
    "# Set the seed for reproducibility\n",
    "def set_seed(seed=42):\n",
    "    import numpy as np\n",
    "    import random\n",
    "    import torch\n",
    "    np.random.seed(seed)\n",
    "    random.seed(seed)\n",
    "    torch.manual_seed(seed)\n",
    "    torch.cuda.manual_seed(seed)\n",
    "    torch.backends.cudnn.deterministic = True\n",
    "    torch.backends.cudnn.benchmark = False\n",
    "    os.environ['PYTHONHASHSEED'] = str(seed)\n",
    "    print('> SEEDING DONE')\n",
    "    \n",
    "set_seed(CFG.seed)\n",
    "\n",
    "# Define the data directory and read the CSV\n",
    "DATA_DIR = \"/Users/elizabethnemeti/Desktop/uw-madison-gi-tract-image-segmentation\"\n",
    "TRAIN_CSV = os.path.join(DATA_DIR, \"train.csv\")\n",
    "train_df = pd.read_csv(TRAIN_CSV)\n",
    "\n",
    "# Add the necessary columns\n",
    "train_df['segmentation'] = train_df['segmentation'].fillna('')\n",
    "train_df['rle_len'] = train_df['segmentation'].map(len)\n",
    "\n",
    "# Define mask_path\n",
    "train_df['mask_path'] = train_df['id'].apply(lambda x: os.path.join(DATA_DIR, 'train', x.split('_')[0], x.split('_')[0] + '_' + x.split('_')[1], 'scans', x + '.npy'))\n",
    "\n",
    "# Simplify further processing\n",
    "train_df['empty'] = (train_df['rle_len'] == 0)\n",
    "\n",
    "# Create folds\n",
    "skf = StratifiedGroupKFold(n_splits=CFG.n_fold, shuffle=True, random_state=CFG.seed)\n",
    "for fold, (train_idx, val_idx) in enumerate(skf.split(train_df, train_df['empty'], groups=train_df[\"id\"].str.split('_').str[0])):\n",
    "    train_df.loc[val_idx, 'fold'] = fold\n",
    "\n",
    "# Save the splits to a CSV file\n",
    "splits_path = '/Users/elizabethnemeti/Desktop/uwdatapreprocessing/splits.csv'\n",
    "train_df[['id', 'fold']].to_csv(splits_path, index=False)\n",
    "\n",
    "print(f\"Splits saved to {splits_path}\")"
   ]
  },
  {
   "cell_type": "code",
   "execution_count": null,
   "id": "3565cae2-3fc4-4e66-b9e5-578c4e3af01d",
   "metadata": {},
   "outputs": [],
   "source": []
  }
 ],
 "metadata": {
  "kernelspec": {
   "display_name": "Python (UNETENV)",
   "language": "python",
   "name": "unetenv"
  },
  "language_info": {
   "codemirror_mode": {
    "name": "ipython",
    "version": 3
   },
   "file_extension": ".py",
   "mimetype": "text/x-python",
   "name": "python",
   "nbconvert_exporter": "python",
   "pygments_lexer": "ipython3",
   "version": "3.11.5"
  }
 },
 "nbformat": 4,
 "nbformat_minor": 5
}
